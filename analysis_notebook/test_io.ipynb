{
 "cells": [
  {
   "cell_type": "code",
   "execution_count": 2,
   "metadata": {},
   "outputs": [],
   "source": [
    "from scanimagetiffio import SITiffIO   \n",
    "\n",
    "import sys\n",
    "sys.path.append(\"..\")\n",
    "from utils_io import get_imaging_files"
   ]
  },
  {
   "cell_type": "code",
   "execution_count": 3,
   "metadata": {},
   "outputs": [],
   "source": [
    "datafolder = \"/media/zilong/4TB Storage HDD/2PImaging/183_03082023\"\n",
    "filenamelist = [\"00004\", \"00005\", \"00006\", \"00007\", \"00008\", \"00009\", \"00010\", \"00012\", \"00014\", \"00016\", \"00017\", \"00018\"]\n",
    "\n",
    "#get file triples, including Tiff file, VR logs and RE logs\n",
    "allfiles = get_imaging_files(datafolder, filenamelist, readVRlogs=True)"
   ]
  },
  {
   "cell_type": "code",
   "execution_count": null,
   "metadata": {},
   "outputs": [],
   "source": [
    "tifffile, relogfile, vrlogfile  = allfiles[0]\n",
    "print ('processing: \\n' + tifffile.split('/')[-1] + '\\n' + relogfile.split('/')[-1] + '\\n' + vrlogfile.split('/')[-1]+'...')\n",
    "\n",
    "S = SITiffIO()\n",
    "S.open_tiff_file(tifffile, \"r\")\n",
    "S.open_rotary_file(relogfile)\n",
    "S.open_log_file(vrlogfile)\n",
    "S.interp_times()  # might take a while..."
   ]
  },
  {
   "cell_type": "code",
   "execution_count": null,
   "metadata": {},
   "outputs": [],
   "source": [
    "X = S.get_all_raw_x()\n",
    "Z = S.get_all_raw_z()\n",
    "time =S.get_tiff_times()"
   ]
  }
 ],
 "metadata": {
  "kernelspec": {
   "display_name": "suite2p",
   "language": "python",
   "name": "python3"
  },
  "language_info": {
   "codemirror_mode": {
    "name": "ipython",
    "version": 3
   },
   "file_extension": ".py",
   "mimetype": "text/x-python",
   "name": "python",
   "nbconvert_exporter": "python",
   "pygments_lexer": "ipython3",
   "version": "3.8.16"
  },
  "orig_nbformat": 4
 },
 "nbformat": 4,
 "nbformat_minor": 2
}
