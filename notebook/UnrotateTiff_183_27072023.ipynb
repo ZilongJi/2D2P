{
 "cells": [
  {
   "cell_type": "code",
   "execution_count": 1,
   "metadata": {},
   "outputs": [],
   "source": [
    "import glob\n",
    "import os\n",
    "import shutil\n",
    "import time\n",
    "import numpy as np\n",
    "from PIL import Image\n",
    "#import utils_image from the parent folder\n",
    "import sys\n",
    "sys.path.append(\"..\")\n",
    "from utils_image import cropLargestRecT, getMeanTiff_randomsampling\n",
    "from utils_io import get_imaging_files, get_rotary_center\n",
    "from scanimagetiffio import SITiffIO"
   ]
  },
  {
   "cell_type": "code",
   "execution_count": 18,
   "metadata": {},
   "outputs": [
    {
     "name": "stdout",
     "output_type": "stream",
     "text": [
      "['/home/zilong/Desktop/2D2P/Data/183_27072023/27072023_00003.tif', '/home/zilong/Desktop/2D2P/Data/183_27072023/REdata_20230727_161337.00003.txt']\n",
      "['/home/zilong/Desktop/2D2P/Data/183_27072023/27072023_00004.tif', '/home/zilong/Desktop/2D2P/Data/183_27072023/REdata_20230727_162227.00004.txt']\n",
      "['/home/zilong/Desktop/2D2P/Data/183_27072023/27072023_00005.tif', '/home/zilong/Desktop/2D2P/Data/183_27072023/REdata_20230727_163105.00005.txt']\n",
      "['/home/zilong/Desktop/2D2P/Data/183_27072023/27072023_00006.tif', '/home/zilong/Desktop/2D2P/Data/183_27072023/REdata_20230727_164024.00006.txt']\n",
      "['/home/zilong/Desktop/2D2P/Data/183_27072023/27072023_00007.tif', '/home/zilong/Desktop/2D2P/Data/183_27072023/REdata_20230727_164812.00007.txt']\n",
      "['/home/zilong/Desktop/2D2P/Data/183_27072023/27072023_00008.tif', '/home/zilong/Desktop/2D2P/Data/183_27072023/REdata_20230727_165553.00008.txt']\n",
      "['/home/zilong/Desktop/2D2P/Data/183_27072023/27072023_00009.tif', '/home/zilong/Desktop/2D2P/Data/183_27072023/REdata_20230727_170521.00009.txt']\n",
      "['/home/zilong/Desktop/2D2P/Data/183_27072023/27072023_00012.tif', '/home/zilong/Desktop/2D2P/Data/183_27072023/REdata_20230727_171537.00012.txt']\n",
      "['/home/zilong/Desktop/2D2P/Data/183_27072023/27072023_00013.tif', '/home/zilong/Desktop/2D2P/Data/183_27072023/REdata_20230727_172329.00013.txt']\n",
      "['/home/zilong/Desktop/2D2P/Data/183_27072023/27072023_00014.tif', '/home/zilong/Desktop/2D2P/Data/183_27072023/REdata_20230727_173110.00014.txt']\n",
      "['/home/zilong/Desktop/2D2P/Data/183_27072023/27072023_00018.tif', '/home/zilong/Desktop/2D2P/Data/183_27072023/REdata_20230727_175340.00018.txt']\n"
     ]
    }
   ],
   "source": [
    "#read all the imaging files in the folder\n",
    "datafolder = \"/home/zilong/Desktop/2D2P/Data/183_27072023/\"\n",
    "namelist = [\"00003\", \"00004\", \"00005\", \"00006\", \"00007\", \"00008\", \"00009\", \"00012\", \"00013\", \"00014\", \"00018\"]\n",
    "\n",
    "allfiles = get_imaging_files(datafolder, namelist, readVRlogs=False)\n",
    "#print all the pairs\n",
    "for pair in allfiles:\n",
    "    print(pair)"
   ]
  },
  {
   "cell_type": "code",
   "execution_count": 3,
   "metadata": {},
   "outputs": [
    {
     "name": "stdout",
     "output_type": "stream",
     "text": [
      "Rotation center is at (255.0, 242.0)\n"
     ]
    }
   ],
   "source": [
    "# read the rotation center from the circlecenter txt file\n",
    "circlecenterfilename = datafolder+\"DP_exp/circlecenter.txt\"\n",
    "rotCenter = get_rotary_center(circlecenterfilename)\n",
    "print(\"Rotation center is at ({}, {})\".format(rotCenter[0], rotCenter[1]))"
   ]
  },
  {
   "cell_type": "code",
   "execution_count": 16,
   "metadata": {},
   "outputs": [
    {
     "name": "stdout",
     "output_type": "stream",
     "text": [
      "Get the median value of tiff file:  /home/zilong/Desktop/2D2P/Data/183_27072023/27072023_00003.tif\n",
      "Randomly select 83 frames to average over...\n",
      "Get the median value of tiff file:  /home/zilong/Desktop/2D2P/Data/183_27072023/27072023_00004.tif\n",
      "Randomly select 90 frames to average over...\n",
      "Get the median value of tiff file:  /home/zilong/Desktop/2D2P/Data/183_27072023/27072023_00005.tif\n",
      "Randomly select 90 frames to average over...\n",
      "Get the median value of tiff file:  /home/zilong/Desktop/2D2P/Data/183_27072023/27072023_00006.tif\n",
      "Randomly select 90 frames to average over...\n",
      "Get the median value of tiff file:  /home/zilong/Desktop/2D2P/Data/183_27072023/27072023_00007.tif\n",
      "Randomly select 90 frames to average over...\n",
      "Get the median value of tiff file:  /home/zilong/Desktop/2D2P/Data/183_27072023/27072023_00008.tif\n",
      "Randomly select 90 frames to average over...\n",
      "Get the median value of tiff file:  /home/zilong/Desktop/2D2P/Data/183_27072023/27072023_00009.tif\n",
      "Randomly select 90 frames to average over...\n",
      "Get the median value of tiff file:  /home/zilong/Desktop/2D2P/Data/183_27072023/27072023_00012.tif\n",
      "Randomly select 90 frames to average over...\n",
      "Get the median value of tiff file:  /home/zilong/Desktop/2D2P/Data/183_27072023/27072023_00013.tif\n",
      "Randomly select 90 frames to average over...\n",
      "Get the median value of tiff file:  /home/zilong/Desktop/2D2P/Data/183_27072023/27072023_00014.tif\n",
      "Randomly select 90 frames to average over...\n",
      "Get the median value of tiff file:  /home/zilong/Desktop/2D2P/Data/183_27072023/27072023_00018.tif\n",
      "Randomly select 90 frames to average over...\n"
     ]
    }
   ],
   "source": [
    "#get the median value of the mean frame for each tiff file\n",
    "all_medians = []\n",
    "for i, (tiff, _)  in enumerate(allfiles):\n",
    "    print('Get the median value of tiff file: ', tiff)\n",
    "    S = SITiffIO()\n",
    "    S.open_tiff_file(tiff, \"r\")\n",
    "    meanFrame = getMeanTiff_randomsampling(S, frac=0.01)\n",
    "    medianVal = np.median(meanFrame)\n",
    "    #store the median value\n",
    "    all_medians.append(medianVal)"
   ]
  },
  {
   "cell_type": "code",
   "execution_count": 21,
   "metadata": {},
   "outputs": [
    {
     "name": "stdout",
     "output_type": "stream",
     "text": [
      "Unrotating tiff file: /home/zilong/Desktop/2D2P/Data/183_27072023/27072023_00003.tif\n",
      "Loading rotary encoder file: /home/zilong/Desktop/2D2P/Data/183_27072023/REdata_20230727_161337.00003.txt\n",
      "Calculating rotations and times from rotary encoder data...\n",
      "Finished calculating rotations and times.\n",
      "The rotary encoder file has 27032 timestamps in it.\n",
      "WARNING: Log file is not loaded\n",
      "Counted 8355 frames\n",
      "Unrotating tiff file: /home/zilong/Desktop/2D2P/Data/183_27072023/27072023_00004.tif\n",
      "Loading rotary encoder file: /home/zilong/Desktop/2D2P/Data/183_27072023/REdata_20230727_162227.00004.txt\n",
      "Calculating rotations and times from rotary encoder data...\n",
      "Finished calculating rotations and times.\n",
      "The rotary encoder file has 27445 timestamps in it.\n",
      "WARNING: Log file is not loaded\n",
      "Counted 9000 frames\n",
      "Unrotating tiff file: /home/zilong/Desktop/2D2P/Data/183_27072023/27072023_00005.tif\n",
      "Loading rotary encoder file: /home/zilong/Desktop/2D2P/Data/183_27072023/REdata_20230727_163105.00005.txt\n",
      "Calculating rotations and times from rotary encoder data...\n",
      "Finished calculating rotations and times.\n",
      "The rotary encoder file has 28017 timestamps in it.\n",
      "WARNING: Log file is not loaded\n",
      "Counted 9000 frames\n",
      "Unrotating tiff file: /home/zilong/Desktop/2D2P/Data/183_27072023/27072023_00006.tif\n",
      "Loading rotary encoder file: /home/zilong/Desktop/2D2P/Data/183_27072023/REdata_20230727_164024.00006.txt\n",
      "Calculating rotations and times from rotary encoder data...\n",
      "Finished calculating rotations and times.\n",
      "The rotary encoder file has 33581 timestamps in it.\n",
      "WARNING: Log file is not loaded\n",
      "Counted 9000 frames\n",
      "Unrotating tiff file: /home/zilong/Desktop/2D2P/Data/183_27072023/27072023_00007.tif\n",
      "Loading rotary encoder file: /home/zilong/Desktop/2D2P/Data/183_27072023/REdata_20230727_164812.00007.txt\n",
      "Calculating rotations and times from rotary encoder data...\n",
      "Finished calculating rotations and times.\n",
      "The rotary encoder file has 31501 timestamps in it.\n",
      "WARNING: Log file is not loaded\n",
      "Counted 9000 frames\n",
      "Unrotating tiff file: /home/zilong/Desktop/2D2P/Data/183_27072023/27072023_00008.tif\n",
      "Loading rotary encoder file: /home/zilong/Desktop/2D2P/Data/183_27072023/REdata_20230727_165553.00008.txt\n",
      "Calculating rotations and times from rotary encoder data...\n",
      "Finished calculating rotations and times.\n",
      "The rotary encoder file has 34290 timestamps in it.\n",
      "WARNING: Log file is not loaded\n",
      "Counted 9000 frames\n",
      "Unrotating tiff file: /home/zilong/Desktop/2D2P/Data/183_27072023/27072023_00009.tif\n",
      "Loading rotary encoder file: /home/zilong/Desktop/2D2P/Data/183_27072023/REdata_20230727_170521.00009.txt\n",
      "Calculating rotations and times from rotary encoder data...\n",
      "Finished calculating rotations and times.\n",
      "The rotary encoder file has 31058 timestamps in it.\n",
      "WARNING: Log file is not loaded\n",
      "Counted 9000 frames\n",
      "Unrotating tiff file: /home/zilong/Desktop/2D2P/Data/183_27072023/27072023_00012.tif\n",
      "Loading rotary encoder file: /home/zilong/Desktop/2D2P/Data/183_27072023/REdata_20230727_171537.00012.txt\n",
      "Calculating rotations and times from rotary encoder data...\n",
      "Finished calculating rotations and times.\n",
      "The rotary encoder file has 33652 timestamps in it.\n",
      "WARNING: Log file is not loaded\n",
      "Counted 9000 frames\n",
      "Unrotating tiff file: /home/zilong/Desktop/2D2P/Data/183_27072023/27072023_00013.tif\n",
      "Loading rotary encoder file: /home/zilong/Desktop/2D2P/Data/183_27072023/REdata_20230727_172329.00013.txt\n",
      "Calculating rotations and times from rotary encoder data...\n",
      "Finished calculating rotations and times.\n",
      "The rotary encoder file has 32349 timestamps in it.\n",
      "WARNING: Log file is not loaded\n",
      "Counted 9000 frames\n",
      "Unrotating tiff file: /home/zilong/Desktop/2D2P/Data/183_27072023/27072023_00014.tif\n",
      "Loading rotary encoder file: /home/zilong/Desktop/2D2P/Data/183_27072023/REdata_20230727_173110.00014.txt\n",
      "Calculating rotations and times from rotary encoder data...\n",
      "Finished calculating rotations and times.\n",
      "The rotary encoder file has 31896 timestamps in it.\n",
      "WARNING: Log file is not loaded\n",
      "Counted 9000 frames\n",
      "Unrotating tiff file: /home/zilong/Desktop/2D2P/Data/183_27072023/27072023_00018.tif\n",
      "Loading rotary encoder file: /home/zilong/Desktop/2D2P/Data/183_27072023/REdata_20230727_175340.00018.txt\n",
      "Calculating rotations and times from rotary encoder data...\n",
      "Finished calculating rotations and times.\n",
      "The rotary encoder file has 32579 timestamps in it.\n",
      "WARNING: Log file is not loaded\n",
      "Counted 9000 frames\n"
     ]
    }
   ],
   "source": [
    "#get the histgram offset \n",
    "histoffset = [all_medians[0]-all_medians[i] for i in range(len(all_medians))]\n",
    "\n",
    "#create a folder named UnrotTiff under the parent folder\n",
    "UnrotTiffFolder = datafolder + \"UnrotTiff_Matched/\"\n",
    "#if the folder exists, remove it, and then create a new one\n",
    "if os.path.exists(UnrotTiffFolder):\n",
    "    shutil.rmtree(UnrotTiffFolder)\n",
    "os.makedirs(UnrotTiffFolder)\n",
    "\n",
    "#for each pair of tiff file and RElog file, unrotate the tiff file, match the histogram, and save it into a folder named UnrotTiff\n",
    "for i, (tiff_file, RElog_file) in enumerate(allfiles):\n",
    "    \n",
    "    #time\n",
    "    t = time.time()\n",
    "\n",
    "    #geterante the unrotated tiff file name\n",
    "    unrotated_tiff_file = UnrotTiffFolder+tiff_file.split(\"/\")[-1].split(\".\")[0] + \"_unrot.tif\"\n",
    "    #print processing file name\n",
    "    print(\"Unrotating tiff file: \" + tiff_file)\n",
    "\n",
    "    #get histogram offset\n",
    "    offset = histoffset[i]\n",
    "  \n",
    "    #unrotate the tiff file and save it into the UnrotTiff folder\n",
    "    S = SITiffIO()\n",
    "    S.open_tiff_file(tiff_file, \"r\")\n",
    "    S.open_tiff_file(unrotated_tiff_file, \"w\") #for writing\n",
    "    S.open_rotary_file(RElog_file)\n",
    "    S.interp_times()  # might take a while...\n",
    "    \n",
    "    N = S.get_n_frames()\n",
    "    Alltheta = S.get_all_theta()\n",
    "\n",
    "    for i in range(N):\n",
    "        frame_i = S.get_frame(i+1)\n",
    "        theta_i = Alltheta[i]\n",
    "        #unrotate the frame\n",
    "        unrotatedFrame = Image.fromarray(frame_i).rotate(theta_i, center=rotCenter)\n",
    "        #crop the largest inner rectangle from the unrotated frame\n",
    "        croppedFrame = cropLargestRecT(unrotatedFrame, rotCenter)\n",
    "        #convert the PIL image back to int16\n",
    "        croppedFrame = np.array(croppedFrame, dtype=np.int16)+offset\n",
    "\n",
    "        S.write_frame(croppedFrame, i)\n",
    "    \n",
    "    #time\n",
    "    print(\"Time for unrotating current tiff file: \" + str(time.time()-t))"
   ]
  },
  {
   "cell_type": "code",
   "execution_count": 1,
   "metadata": {},
   "outputs": [
    {
     "name": "stdout",
     "output_type": "stream",
     "text": [
      "Unrotate Imaging Tiff files...\n",
      "Rotation center is at (245.0, 248.0)\n",
      "Get the median value of tiff file:  /home/zilong/Desktop/2D2P/Data/183_03082023/03082023_00001.tif\n",
      "Randomly select 20 frames to average over...\n"
     ]
    }
   ],
   "source": [
    "import sys\n",
    "sys.path.append(\"..\")\n",
    "from utils_image import UnrotateTiff\n",
    "\n",
    "datafolder = '/home/zilong/Desktop/2D2P/Data/183_03082023/'\n",
    "UnrotateTiff(datafolder=datafolder, \n",
    "             namelist = [\"00004\", \"00005\", \"00006\", \"00007\", \"00008\", \"00009\", \"00010\", \"00012\", \"00014\", \"00016\", \"00017\", \"00018\"],\n",
    "             readVRlogs = False)\n"
   ]
  },
  {
   "cell_type": "code",
   "execution_count": null,
   "metadata": {},
   "outputs": [],
   "source": []
  }
 ],
 "metadata": {
  "kernelspec": {
   "display_name": "2D2P",
   "language": "python",
   "name": "python3"
  },
  "language_info": {
   "codemirror_mode": {
    "name": "ipython",
    "version": 3
   },
   "file_extension": ".py",
   "mimetype": "text/x-python",
   "name": "python",
   "nbconvert_exporter": "python",
   "pygments_lexer": "ipython3",
   "version": "3.8.17"
  },
  "orig_nbformat": 4
 },
 "nbformat": 4,
 "nbformat_minor": 2
}
