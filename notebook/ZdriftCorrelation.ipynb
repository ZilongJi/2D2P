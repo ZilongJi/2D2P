{
 "cells": [
  {
   "cell_type": "code",
   "execution_count": 1,
   "metadata": {},
   "outputs": [],
   "source": [
    "import numpy as np\n",
    "import suite2p\n",
    "from scanimagetiffio import SITiffIO\n",
    "#import utils_image from the parent folder\n",
    "import sys\n",
    "sys.path.append(\"..\")\n",
    "from utils_image import UnrotateCropFrame, RegFrame, compute_zpos_sp\n"
   ]
  },
  {
   "cell_type": "code",
   "execution_count": 2,
   "metadata": {},
   "outputs": [
    {
     "name": "stdout",
     "output_type": "stream",
     "text": [
      "Loading rotary encoder file: /home/zilong/Desktop/2D2P/Data/162/REdata_20230619_165713.txt\n",
      "Warning: The file /home/zilong/Desktop/2D2P/Data/162/REdata_20230619_165713.txt has no microscope trigger associated. Proceeding to calculate times anyway...\n",
      "Finished calculating rotations and times.\n",
      "The rotary encoder file has 22266 timestamps in it.\n",
      "WARNING: Log file is not loaded\n",
      "Counted 2050 frames\n"
     ]
    }
   ],
   "source": [
    "#load the zstack tiff and calculate the mean frames for each stack\n",
    "\n",
    "zstacktiff = '/home/zilong/Desktop/2D2P/Data/162/162_zstack_19062023__00002.tif'\n",
    "ztstackrelog = '/home/zilong/Desktop/2D2P/Data/162/REdata_20230619_165713.txt'\n",
    "\n",
    "S = SITiffIO()\n",
    "S.open_tiff_file(zstacktiff, \"r\")\n",
    "S.open_rotary_file(ztstackrelog)\n",
    "S.interp_times()  # might take a while...\n",
    "\n",
    "#get all frames and angles in S\n",
    "Array = []; \n",
    "for i in range(S.get_n_frames()):\n",
    "    Array.append(S.get_frame(i+1))\n",
    "#change Array to a numpy array\n",
    "Array = np.array(Array)\n",
    "Angle = S.get_all_theta()\n",
    "\n",
    "# unrotate each frame in the tiff file with the detected rotation center\n",
    "unrotcropFrames = UnrotateCropFrame(Array, Angle, rotCenter=[256,256])\n",
    "\n",
    "\n",
    "num_v=5; num_s=41; num_f=10\n",
    "# reshape the unrotFrames to a 5D array\n",
    "unrotcropFrames = unrotcropFrames.reshape(\n",
    "    num_v, num_s, num_f, unrotcropFrames.shape[1], unrotcropFrames.shape[2]\n",
    ")\n",
    "# average across the first and third dimension\n",
    "meanZstacks = np.mean(unrotcropFrames, axis=(0, 2))\n",
    "             "
   ]
  },
  {
   "cell_type": "code",
   "execution_count": 3,
   "metadata": {},
   "outputs": [
    {
     "name": "stdout",
     "output_type": "stream",
     "text": [
      "Loading rotary encoder file: /home/zilong/Desktop/2D2P/Data/162/REdata_20230619_170256.txt\n",
      "Calculating rotations and times from rotary encoder data...\n",
      "Finished calculating rotations and times.\n",
      "The rotary encoder file has 79743 timestamps in it.\n",
      "WARNING: Log file is not loaded\n",
      "Counted 18000 frames\n",
      "Reference frame, 8.15 sec.\n",
      "Registered 200/1000 in 2.29s\n",
      "Registered 400/1000 in 5.40s\n",
      "Registered 600/1000 in 7.46s\n",
      "Registered 800/1000 in 9.34s\n",
      "Registered 1000/1000 in 11.22s\n"
     ]
    }
   ],
   "source": [
    "#load the imaging tiff \n",
    "imagingtiff = '/home/zilong/Desktop/2D2P/Data/162/162_block1_19062023__00001.tif'\n",
    "imagingrelog = '/home/zilong/Desktop/2D2P/Data/162/REdata_20230619_170256.txt'\n",
    "\n",
    "S = SITiffIO()\n",
    "S.open_tiff_file(imagingtiff, \"r\")\n",
    "S.open_rotary_file(imagingrelog)\n",
    "#extract the last self.numFrames frames from the tiff file\n",
    "tailArray, tailAng = S.tail(1000)\n",
    "        \n",
    "# unrotate each frame in the tiff file with the detected rotation center\n",
    "unrotFrames  = UnrotateCropFrame(tailArray, tailAng, rotCenter=[256,256])\n",
    "\n",
    "#perform image registraion\n",
    "meanRegImg, regFrames = RegFrame(unrotFrames)"
   ]
  },
  {
   "cell_type": "code",
   "execution_count": 4,
   "metadata": {},
   "outputs": [
    {
     "name": "stdout",
     "output_type": "stream",
     "text": [
      "1 planes, 0/1000 frames, 0.66 sec.\n",
      "11 planes, 0/1000 frames, 3.29 sec.\n",
      "21 planes, 0/1000 frames, 5.78 sec.\n",
      "31 planes, 0/1000 frames, 8.09 sec.\n",
      "40 planes, 0/1000 frames, 10.16 sec.\n",
      "1 planes, 100/1000 frames, 10.58 sec.\n",
      "11 planes, 100/1000 frames, 13.02 sec.\n",
      "21 planes, 100/1000 frames, 15.40 sec.\n",
      "31 planes, 100/1000 frames, 17.76 sec.\n",
      "40 planes, 100/1000 frames, 19.83 sec.\n",
      "1 planes, 200/1000 frames, 20.26 sec.\n",
      "11 planes, 200/1000 frames, 22.58 sec.\n",
      "21 planes, 200/1000 frames, 25.01 sec.\n",
      "31 planes, 200/1000 frames, 27.26 sec.\n",
      "40 planes, 200/1000 frames, 29.39 sec.\n",
      "1 planes, 300/1000 frames, 29.82 sec.\n",
      "11 planes, 300/1000 frames, 32.24 sec.\n",
      "21 planes, 300/1000 frames, 34.50 sec.\n",
      "31 planes, 300/1000 frames, 36.84 sec.\n",
      "40 planes, 300/1000 frames, 38.93 sec.\n",
      "1 planes, 400/1000 frames, 39.36 sec.\n",
      "11 planes, 400/1000 frames, 41.80 sec.\n",
      "21 planes, 400/1000 frames, 44.14 sec.\n",
      "31 planes, 400/1000 frames, 46.36 sec.\n",
      "40 planes, 400/1000 frames, 48.46 sec.\n",
      "1 planes, 500/1000 frames, 49.00 sec.\n",
      "11 planes, 500/1000 frames, 51.30 sec.\n",
      "21 planes, 500/1000 frames, 53.71 sec.\n",
      "31 planes, 500/1000 frames, 56.00 sec.\n",
      "40 planes, 500/1000 frames, 58.09 sec.\n",
      "1 planes, 600/1000 frames, 58.55 sec.\n",
      "11 planes, 600/1000 frames, 60.99 sec.\n",
      "21 planes, 600/1000 frames, 63.47 sec.\n",
      "31 planes, 600/1000 frames, 65.80 sec.\n",
      "40 planes, 600/1000 frames, 67.86 sec.\n",
      "1 planes, 700/1000 frames, 68.31 sec.\n",
      "11 planes, 700/1000 frames, 70.62 sec.\n",
      "21 planes, 700/1000 frames, 72.96 sec.\n",
      "31 planes, 700/1000 frames, 75.28 sec.\n",
      "40 planes, 700/1000 frames, 77.49 sec.\n",
      "1 planes, 800/1000 frames, 77.93 sec.\n",
      "11 planes, 800/1000 frames, 80.17 sec.\n",
      "21 planes, 800/1000 frames, 82.52 sec.\n",
      "31 planes, 800/1000 frames, 84.92 sec.\n",
      "40 planes, 800/1000 frames, 87.05 sec.\n",
      "1 planes, 900/1000 frames, 87.48 sec.\n",
      "11 planes, 900/1000 frames, 89.84 sec.\n",
      "21 planes, 900/1000 frames, 92.12 sec.\n",
      "31 planes, 900/1000 frames, 94.57 sec.\n",
      "40 planes, 900/1000 frames, 96.75 sec.\n"
     ]
    }
   ],
   "source": [
    "#comnpute the z drift of each frame\n",
    "ops = suite2p.default_ops()\n",
    "zcorr = compute_zpos_sp(meanZstacks, regFrames, ops)"
   ]
  },
  {
   "cell_type": "code",
   "execution_count": 6,
   "metadata": {},
   "outputs": [
    {
     "ename": "NameError",
     "evalue": "name 'plt' is not defined",
     "output_type": "error",
     "traceback": [
      "\u001b[0;31m---------------------------------------------------------------------------\u001b[0m",
      "\u001b[0;31mNameError\u001b[0m                                 Traceback (most recent call last)",
      "Cell \u001b[0;32mIn[6], line 2\u001b[0m\n\u001b[1;32m      1\u001b[0m \u001b[39m#imshow zcorr with auto aspect ratio\u001b[39;00m\n\u001b[0;32m----> 2\u001b[0m fig \u001b[39m=\u001b[39m plt\u001b[39m.\u001b[39mfigure(figsize\u001b[39m=\u001b[39m(\u001b[39m512\u001b[39m\u001b[39m/\u001b[39m\u001b[39m100\u001b[39m,\u001b[39m512\u001b[39m\u001b[39m/\u001b[39m\u001b[39m100\u001b[39m),dpi\u001b[39m=\u001b[39m\u001b[39m100\u001b[39m)\n\u001b[1;32m      3\u001b[0m plt\u001b[39m.\u001b[39mimshow(zcorr, cmap\u001b[39m=\u001b[39m\u001b[39m'\u001b[39m\u001b[39mgray\u001b[39m\u001b[39m'\u001b[39m, aspect\u001b[39m=\u001b[39m\u001b[39m'\u001b[39m\u001b[39mauto\u001b[39m\u001b[39m'\u001b[39m)\n\u001b[1;32m      4\u001b[0m plt\u001b[39m.\u001b[39maxis(\u001b[39m'\u001b[39m\u001b[39moff\u001b[39m\u001b[39m'\u001b[39m)\n",
      "\u001b[0;31mNameError\u001b[0m: name 'plt' is not defined"
     ]
    }
   ],
   "source": [
    "#imshow zcorr with auto aspect ratio\n",
    "fig = plt.figure(figsize=(512/100,512/100),dpi=100)\n",
    "plt.imshow(zcorr, cmap='gray', aspect='auto')\n",
    "plt.axis('off')\n",
    "plt.show()"
   ]
  },
  {
   "cell_type": "code",
   "execution_count": null,
   "metadata": {},
   "outputs": [],
   "source": []
  }
 ],
 "metadata": {
  "kernelspec": {
   "display_name": "2D2P",
   "language": "python",
   "name": "python3"
  },
  "language_info": {
   "codemirror_mode": {
    "name": "ipython",
    "version": 3
   },
   "file_extension": ".py",
   "mimetype": "text/x-python",
   "name": "python",
   "nbconvert_exporter": "python",
   "pygments_lexer": "ipython3",
   "version": "3.8.16"
  },
  "orig_nbformat": 4
 },
 "nbformat": 4,
 "nbformat_minor": 2
}
