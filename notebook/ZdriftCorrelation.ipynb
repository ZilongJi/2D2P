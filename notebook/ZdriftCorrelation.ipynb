{
 "cells": [
  {
   "cell_type": "code",
   "execution_count": 2,
   "metadata": {},
   "outputs": [],
   "source": [
    "import numpy as np\n",
    "from scanimagetiffio import SITiffIO\n",
    "#import utils_image from the parent folder\n",
    "import sys\n",
    "sys.path.append(\"..\")\n",
    "from utils_image import UnrotateCropFrame, RegFrame"
   ]
  },
  {
   "cell_type": "code",
   "execution_count": null,
   "metadata": {},
   "outputs": [],
   "source": [
    "#load the zstack tiff and calculate the mean frames for each stack\n",
    "\n",
    "zstacktiff = '/home/zilong/Desktop/2D2P/Data/162_10072023/162_zstack__00001.tif'\n",
    "ztstackrelog = '/home/zilong/Desktop/2D2P/Data/162_10072023/REdata_20230706_164845.txt'\n",
    "\n",
    "S = SITiffIO()\n",
    "S.open_tiff_file(zstacktiff, \"r\")\n",
    "S.open_rotary_file(ztstackrelog)\n",
    "S.interp_times()  # might take a while...\n",
    "\n",
    "#get all frames and angles in S\n",
    "Array = []; \n",
    "for i in range(S.get_n_frames()):\n",
    "    Array.append(S.get_frame(i+1))\n",
    "#change Array to a numpy array\n",
    "Array = np.array(Array)\n",
    "Angle = S.get_all_theta()\n",
    "\n",
    "# unrotate each frame in the tiff file with the detected rotation center\n",
    "unrotcropFrames = UnrotateCropFrame(Array, Angle, rotCenter=[256,256])\n",
    "\n",
    "\n",
    "num_v=5; num_s=41; num_f=10\n",
    "# reshape the unrotFrames to a 5D array\n",
    "unrotcropFrames = unrotcropFrames.reshape(\n",
    "    num_v, num_s, num_f, unrotcropFrames.shape[1], unrotcropFrames.shape[2]\n",
    ")\n",
    "# average across the first and third dimension\n",
    "meanZstacks = np.mean(unrotcropFrames, axis=(0, 2))\n",
    "             "
   ]
  },
  {
   "cell_type": "code",
   "execution_count": null,
   "metadata": {},
   "outputs": [],
   "source": [
    "#load the imaging tiff \n",
    "imagingtiff = '/home/zilong/Desktop/2D2P/Data/162/162_00001.tif'\n",
    "imagingrelog = '/home/zilong/Desktop/2D2P/Data/162/REdata_20230706_164845.txt'\n",
    "\n",
    "S = SITiffIO()\n",
    "S.open_tiff_file(imagingtiff, \"r\")\n",
    "S.open_rotary_file(imagingrelog)\n",
    "#extract the last self.numFrames frames from the tiff file\n",
    "tailArray, tailAng = S.tail(1000)\n",
    "        \n",
    "# unrotate each frame in the tiff file with the detected rotation center\n",
    "unrotFrames  = UnrotateCropFrame(tailArray, tailAng, rotCenter=[256,256])\n",
    "\n",
    "#perform image registraion\n",
    "meanRegImg, regFrames = RegFrame(unrotFrames)"
   ]
  }
 ],
 "metadata": {
  "kernelspec": {
   "display_name": "2D2P",
   "language": "python",
   "name": "python3"
  },
  "language_info": {
   "codemirror_mode": {
    "name": "ipython",
    "version": 3
   },
   "file_extension": ".py",
   "mimetype": "text/x-python",
   "name": "python",
   "nbconvert_exporter": "python",
   "pygments_lexer": "ipython3",
   "version": "3.8.17"
  },
  "orig_nbformat": 4
 },
 "nbformat": 4,
 "nbformat_minor": 2
}
