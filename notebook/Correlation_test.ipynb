{
 "cells": [
  {
   "cell_type": "code",
   "execution_count": 4,
   "metadata": {},
   "outputs": [],
   "source": [
    "from scanimagetiffio.scanimagetiffio import SITiffIO\n",
    "import matplotlib.pyplot as plt\n",
    "import numpy as np\n",
    "import sys\n",
    "sys.path.append(\"..\")\n",
    "from utils_image import UnrotateFrame_SITiffIO"
   ]
  },
  {
   "cell_type": "code",
   "execution_count": 2,
   "metadata": {},
   "outputs": [
    {
     "name": "stdout",
     "output_type": "stream",
     "text": [
      "Loading rotary encoder file: /home/zilong/Desktop/2D2P/Data/162_10072023/REdata_20230706_171218.txt\n",
      "Calculating rotations and times from rotary encoder data...\n",
      "Finished calculating rotations and times.\n",
      "The rotary encoder file has 76241 timestamps in it.\n",
      "WARNING: Log file is not loaded\n",
      "Counted 18000 frames\n"
     ]
    }
   ],
   "source": [
    "\n",
    "dataFolder = '/home/zilong/Desktop/2D2P/Data/162_10072023/'\n",
    "tifffilename = dataFolder+ '162_block2__00001.tif'\n",
    "relogfilename = dataFolder + 'REdata_20230706_171218.txt'\n",
    "\n",
    "#load data\n",
    "S = SITiffIO()\n",
    "S.open_tiff_file(tifffilename, \"r\")\n",
    "S.open_rotary_file(relogfilename)\n",
    "S.interp_times()  # might take a while..."
   ]
  },
  {
   "cell_type": "code",
   "execution_count": 5,
   "metadata": {},
   "outputs": [
    {
     "name": "stdout",
     "output_type": "stream",
     "text": [
      "Loading rotary encoder file: /home/zilong/Desktop/2D2P/Data/162_10072023/REdata_20230706_171218.txt\n",
      "Calculating rotations and times from rotary encoder data...\n",
      "Finished calculating rotations and times.\n",
      "The rotary encoder file has 76241 timestamps in it.\n",
      "WARNING: Log file is not loaded\n",
      "Counted 18000 frames\n"
     ]
    }
   ],
   "source": [
    "#unrotate the frames in the tiff \n",
    "unrotFrames = UnrotateFrame_SITiffIO(tifffilename, relogfilename, rotCenter=[265, 278], numFrames=1000)"
   ]
  },
  {
   "cell_type": "code",
   "execution_count": 6,
   "metadata": {},
   "outputs": [
    {
     "ename": "AttributeError",
     "evalue": "'list' object has no attribute 'shape'",
     "output_type": "error",
     "traceback": [
      "\u001b[0;31m---------------------------------------------------------------------------\u001b[0m",
      "\u001b[0;31mAttributeError\u001b[0m                            Traceback (most recent call last)",
      "Cell \u001b[0;32mIn[6], line 1\u001b[0m\n\u001b[0;32m----> 1\u001b[0m unrotFrames\u001b[39m.\u001b[39;49mshape\n",
      "\u001b[0;31mAttributeError\u001b[0m: 'list' object has no attribute 'shape'"
     ]
    }
   ],
   "source": [
    "unrotFrames.shape"
   ]
  },
  {
   "cell_type": "code",
   "execution_count": 7,
   "metadata": {},
   "outputs": [
    {
     "data": {
      "text/plain": [
       "1000"
      ]
     },
     "execution_count": 7,
     "metadata": {},
     "output_type": "execute_result"
    }
   ],
   "source": [
    "len(unrotFrames)"
   ]
  },
  {
   "cell_type": "code",
   "execution_count": 10,
   "metadata": {},
   "outputs": [
    {
     "data": {
      "image/png": "[encoded data removed]",
      "text/plain": [
       "<Figure size 640x480 with 1 Axes>"
      ]
     },
     "metadata": {},
     "output_type": "display_data"
    }
   ],
   "source": [
    "#create a movie of the all the unrotated frames which play at 30 fps and save it as a mp4 file\n",
    "\n",
    "import matplotlib.animation as animation\n",
    "from matplotlib.animation import FFMpegWriter\n",
    "from matplotlib import rc\n",
    "rc('animation', html='html5')\n",
    "\n",
    "fig = plt.figure()\n",
    "ax = fig.add_subplot(111)\n",
    "ax.set_title('Unrotated Frames')\n",
    "ax.set_xlabel('x')\n",
    "ax.set_ylabel('y')\n",
    "ax.set_xlim(0, 512)\n",
    "ax.set_ylim(0, 256)\n",
    "im = ax.imshow(unrotFrames[0,:,:], cmap='viridis', animated=True)\n",
    "\n",
    "def updatefig(i):\n",
    "    im.set_array(unrotFrames[i,:,:])\n",
    "    return im,\n",
    "\n",
    "ani = animation.FuncAnimation(fig, updatefig, frames=1000, interval=33, blit=True)\n",
    "ani.save('unrotFrames.mp4', writer=FFMpegWriter(fps=30))\n",
    "        "
   ]
  },
  {
   "cell_type": "code",
   "execution_count": null,
   "metadata": {},
   "outputs": [],
   "source": []
  }
 ],
 "metadata": {
  "kernelspec": {
   "display_name": "2D2P",
   "language": "python",
   "name": "python3"
  },
  "language_info": {
   "codemirror_mode": {
    "name": "ipython",
    "version": 3
   },
   "file_extension": ".py",
   "mimetype": "text/x-python",
   "name": "python",
   "nbconvert_exporter": "python",
   "pygments_lexer": "ipython3",
   "version": "3.8.17"
  },
  "orig_nbformat": 4
 },
 "nbformat": 4,
 "nbformat_minor": 2
}
