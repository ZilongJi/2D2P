{
 "cells": [
  {
   "cell_type": "code",
   "execution_count": null,
   "metadata": {},
   "outputs": [],
   "source": [
    "#going to unrotate all the imaging tiff files under a folder\n",
    "#save all of them into a folder named UnrotTiff with the \n",
    "#same file name but add _unrot at the end"
   ]
  },
  {
   "cell_type": "code",
   "execution_count": 2,
   "metadata": {},
   "outputs": [],
   "source": [
    "from scanimagetiffio import SITiffIO\n",
    "import glob\n",
    "#import utils_image from the parent folder\n",
    "import sys\n",
    "sys.path.append(\"..\")\n",
    "from utils_image import UnrotateCropFrame\n",
    "\n",
    "parent_folder = \"/home/zilong/Desktop/2D2P/Data/162/\""
   ]
  },
  {
   "cell_type": "code",
   "execution_count": 3,
   "metadata": {},
   "outputs": [],
   "source": [
    "# read the rotation center from the circlecenter txt file\n",
    "circlecenterfilename = parent_folder+\"DP/circlecenter.txt\"\n",
    "with open(circlecenterfilename, \"r\") as f:\n",
    "    # read the last row\n",
    "    last_line = f.readlines()[-1]\n",
    "    # assign the x and y coordinates to self.rotx and self.roty\n",
    "    rotx = float(last_line.split()[0])\n",
    "    roty = float(last_line.split()[1])"
   ]
  },
  {
   "cell_type": "code",
   "execution_count": null,
   "metadata": {},
   "outputs": [],
   "source": [
    "#get all the tiff files under the parent folder with an extension of .tif\n",
    "tifffiles = glob.glob(parent_folder + \"/*.tif\")\n"
   ]
  },
  {
   "cell_type": "code",
   "execution_count": null,
   "metadata": {},
   "outputs": [],
   "source": [
    "#load the imaging tiff \n",
    "imagingtiff = '/home/zilong/Desktop/2D2P/Data/162/162_block1_19062023__00001.tif'\n",
    "imagingrelog = '/home/zilong/Desktop/2D2P/Data/162/REdata_20230619_170256.txt'\n",
    "\n",
    "S = SITiffIO()\n",
    "S.open_tiff_file(imagingtiff, \"r\")\n",
    "S.open_rotary_file(imagingrelog)\n",
    "#extract the last self.numFrames frames from the tiff file\n",
    "tailArray, tailAng = S.tail(500)\n",
    "        \n",
    "# unrotate each frame in the tiff file with the detected rotation center\n",
    "unrotFrames  = UnrotateCropFrame(tailArray, tailAng, rotCenter=[rotx,roty])"
   ]
  }
 ],
 "metadata": {
  "kernelspec": {
   "display_name": "suite2p",
   "language": "python",
   "name": "python3"
  },
  "language_info": {
   "codemirror_mode": {
    "name": "ipython",
    "version": 3
   },
   "file_extension": ".py",
   "mimetype": "text/x-python",
   "name": "python",
   "nbconvert_exporter": "python",
   "pygments_lexer": "ipython3",
   "version": "3.8.16"
  },
  "orig_nbformat": 4
 },
 "nbformat": 4,
 "nbformat_minor": 2
}
