{
 "cells": [
  {
   "cell_type": "code",
   "execution_count": 12,
   "metadata": {},
   "outputs": [],
   "source": [
    "#THIS CODE IS NOT WORK AT THE MOMENT, NEED TO INVESTIGATE MORE IN THE FUTURE!!!\n",
    "import numpy as np\n",
    "from PIL import Image\n",
    "import sys\n",
    "sys.path.append(\"..\")\n",
    "from utils_image import cropLargestRecT\n",
    "from scanimagetiffio import SITiffIO\n"
   ]
  },
  {
   "cell_type": "code",
   "execution_count": 13,
   "metadata": {},
   "outputs": [],
   "source": [
    "def UnrotateCropFrame(Array, Angle, rotCenter): \n",
    "    \"\"\"\n",
    "    Unrotate each frame with the corresponding rotation angle and the rotation center \n",
    "    and crop the largest inner rectangle from the unrotated frame\n",
    "\n",
    "    Args:\n",
    "        Array (array): a 3D array of frames\n",
    "        Angle (list): a list of rotation angles\n",
    "        rotCenter (list): the rotation center from the center detection module\n",
    "    \"\"\"\n",
    "    \n",
    "    #for each frame, unrotate it with the corresponding rotation angle using Image.rotate\n",
    "    #and store in an array\n",
    "    NewFrames = []\n",
    "    \n",
    "    for i in range(Array.shape[0]):\n",
    "        frame = Array[i,:,:]\n",
    "        #unrotate the frame\n",
    "        unrotatedFrame = Image.fromarray(frame).rotate(Angle[i], center=rotCenter)\n",
    "        #crop the largest inner rectangle from the unrotated frame\n",
    "        croppedFrame = cropLargestRecT(unrotatedFrame, rotCenter)\n",
    "        #convert the PIL image back to int16\n",
    "        croppedFrame = np.array(croppedFrame, dtype=np.int16)\n",
    "        NewFrames.append(croppedFrame)      \n",
    "        \n",
    "    #convert the list to UnrotatedFrames to array\n",
    "    NewFrames = np.array(NewFrames)\n",
    "    \n",
    "    return NewFrames"
   ]
  },
  {
   "cell_type": "code",
   "execution_count": 7,
   "metadata": {},
   "outputs": [
    {
     "name": "stdout",
     "output_type": "stream",
     "text": [
      "Loading rotary encoder file: /home/zilong/Desktop/2D2P/Data/183_03082023/REdata_20230803_173547.00004.txt\n",
      "Calculating rotations and times from rotary encoder data...\n",
      "Finished calculating rotations and times.\n",
      "The rotary encoder file has 33177 timestamps in it.\n",
      "WARNING: Log file is not loaded\n",
      "Counted 9000 frames\n"
     ]
    }
   ],
   "source": [
    "datafolder = '/home/zilong/Desktop/2D2P/Data/183_03082023'\n",
    "\n",
    "# read the rotation center from the circlecenter txt file\n",
    "circlecenterfilename = datafolder + \"/DP_exp/circlecenter.txt\"\n",
    "with open(circlecenterfilename, \"r\") as f:\n",
    "    # read the last row\n",
    "    last_line = f.readlines()[-1]\n",
    "    # assign the x and y coordinates to self.rotx and self.roty\n",
    "    rotx = float(last_line.split()[0])\n",
    "    roty = float(last_line.split()[1])\n",
    "rotCenter = [rotx, roty]\n",
    "\n",
    "S = SITiffIO()\n",
    "S.open_tiff_file(datafolder+'/03082023_00004.tif', \"r\")\n",
    "S.open_rotary_file(datafolder+'/REdata_20230803_173547.00004.txt')\n",
    "#extract the last self.numFrames frames from the tiff file\n",
    "tailArray, tailAng = S.tail(1000)"
   ]
  },
  {
   "cell_type": "code",
   "execution_count": 33,
   "metadata": {},
   "outputs": [
    {
     "name": "stdout",
     "output_type": "stream",
     "text": [
      "WARNING: Log file is not loaded\n",
      "Counted 9000 frames\n"
     ]
    }
   ],
   "source": [
    "tailArray, tailAng = S.tail(5000)"
   ]
  },
  {
   "cell_type": "code",
   "execution_count": 34,
   "metadata": {},
   "outputs": [],
   "source": [
    "frames = UnrotateCropFrame(tailArray, tailAng, rotCenter)"
   ]
  },
  {
   "cell_type": "code",
   "execution_count": 35,
   "metadata": {},
   "outputs": [],
   "source": [
    "#I want to speed up the UnrotateCropFrame by using parallel computing\n",
    "from multiprocessing import Pool, cpu_count\n",
    "from functools import partial\n",
    "\n",
    "def process_frame(frame, angle, rot_center):\n",
    "    unrotated_frame = Image.fromarray(frame).rotate(angle, center=rot_center)\n",
    "    cropped_frame = cropLargestRecT(unrotated_frame, rot_center)\n",
    "    cropped_frame = np.array(cropped_frame, dtype=np.int16)\n",
    "    return cropped_frame\n",
    "\n",
    "def UnrotateCropFrame_mp(Array, Angle, rotCenter):\n",
    "    \"\"\"\n",
    "    Unrotate each frame with the corresponding rotation angle and the rotation center\n",
    "    and crop the largest inner rectangle from the unrotated frame\n",
    "\n",
    "    Args:\n",
    "        Array (array): a 3D array of frames\n",
    "        Angle (list): a list of rotation angles\n",
    "        rotCenter (list): the rotation center from the center detection module\n",
    "    \"\"\"\n",
    "\n",
    "    # Define the number of worker processes to use\n",
    "    num_workers = cpu_count()\n",
    "\n",
    "    # Create a partial function with the fixed arguments\n",
    "    process_frame_partial = partial(process_frame, rot_center=rotCenter)\n",
    "\n",
    "    # Use multiprocessing Pool to parallelize the computation\n",
    "    with Pool(num_workers) as pool:\n",
    "        # Call the helper function for each frame and get the results\n",
    "        new_frames = pool.starmap(process_frame_partial, zip(Array, Angle))\n",
    "\n",
    "    # Convert the list of frames to numpy array\n",
    "    new_frames = np.array(new_frames)\n",
    "\n",
    "    return new_frames\n"
   ]
  },
  {
   "cell_type": "code",
   "execution_count": 36,
   "metadata": {},
   "outputs": [],
   "source": [
    "frames_mp = UnrotateCropFrame_mp(tailArray, tailAng, rotCenter)"
   ]
  },
  {
   "cell_type": "code",
   "execution_count": null,
   "metadata": {},
   "outputs": [],
   "source": []
  }
 ],
 "metadata": {
  "kernelspec": {
   "display_name": "2D2P",
   "language": "python",
   "name": "python3"
  },
  "language_info": {
   "codemirror_mode": {
    "name": "ipython",
    "version": 3
   },
   "file_extension": ".py",
   "mimetype": "text/x-python",
   "name": "python",
   "nbconvert_exporter": "python",
   "pygments_lexer": "ipython3",
   "version": "3.8.17"
  },
  "orig_nbformat": 4
 },
 "nbformat": 4,
 "nbformat_minor": 2
}
