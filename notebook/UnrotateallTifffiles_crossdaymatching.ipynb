{
 "cells": [
  {
   "cell_type": "code",
   "execution_count": 1,
   "metadata": {},
   "outputs": [],
   "source": [
    "import os\n",
    "import numpy as np\n",
    "import suite2p\n",
    "\n",
    "import sys\n",
    "sys.path.append(\"..\")\n",
    "from utils_image import UnrotateTiff, compute_zpos_sp"
   ]
  },
  {
   "attachments": {},
   "cell_type": "markdown",
   "metadata": {},
   "source": [
    "### First get the shift amount of day 2 compared to day 1"
   ]
  },
  {
   "cell_type": "code",
   "execution_count": 2,
   "metadata": {},
   "outputs": [
    {
     "name": "stdout",
     "output_type": "stream",
     "text": [
      "0 planes, 0/1 frames, 0.05 sec.\n",
      "shift in y and x:  (-4, -4)\n",
      "cropsize:  (346, 346)\n"
     ]
    }
   ],
   "source": [
    "#day 183_03082023\n",
    "datafolder = \"/media/zilong/4TB Storage HDD/2PImaging/183_03082023\"\n",
    "processed_datafolder = os.path.join(datafolder, 'UnrotTiff/suite2p/plane0')\n",
    "ops_1 =  np.load(os.path.join(processed_datafolder, 'ops.npy'), allow_pickle=True)\n",
    "ops_1 = ops_1.item()\n",
    "\n",
    "#day \n",
    "datafolder = \"/media/zilong/4TB Storage HDD/2PImaging/183_04082023\"\n",
    "processed_datafolder = os.path.join(datafolder, 'UnrotTiff/suite2p/plane0')\n",
    "ops_2 =  np.load(os.path.join(processed_datafolder, 'ops.npy'), allow_pickle=True)\n",
    "ops_2 = ops_2.item()\n",
    "\n",
    "meanImg_1 = ops_1['meanImg']\n",
    "meanImg_2 = ops_2['meanImg']\n",
    "\n",
    "#pad the smaller one with zeros\n",
    "constant_values = np.mean(meanImg_1)\n",
    "if meanImg_1.shape[0] > meanImg_2.shape[0]:\n",
    "    #pad meanImg_2 in both width and height\n",
    "    pad_width = int((meanImg_1.shape[0] - meanImg_2.shape[0])/2)\n",
    "    meanImg_2_pad = np.pad(meanImg_2, ((pad_width, pad_width), (pad_width, pad_width)), 'constant', constant_values=constant_values)\n",
    "    meanImg_1_pad = meanImg_1.copy()\n",
    "elif meanImg_1.shape[0] < meanImg_2.shape[0]:\n",
    "    #pad meanImg_1 in both width and height\n",
    "    pad_width = int((meanImg_2.shape[0] - meanImg_1.shape[0])/2)\n",
    "    meanImg_1_pad = np.pad(meanImg_1, ((pad_width, pad_width), (pad_width, pad_width)), 'constant', constant_values=constant_values)\n",
    "    meanImg_2_pad = meanImg_2.copy()\n",
    "    \n",
    "ops = suite2p.default_ops()\n",
    "#add new dimension at the beginning\n",
    "meanImg_1_pad = np.expand_dims(meanImg_1_pad, axis=0)\n",
    "meanImg_2_pad = np.expand_dims(meanImg_2_pad, axis=0)\n",
    "ymax, xmax, corrMatrix = compute_zpos_sp(meanImg_2_pad, meanImg_1_pad, ops)\n",
    "\n",
    "shiftyx = (ymax[0][0], xmax[0][0])\n",
    "#print shiftyx\n",
    "print(\"shift in y and x: \", shiftyx)\n",
    "\n",
    "cropsize = meanImg_1.shape\n",
    "#print cropsize\n",
    "print(\"cropsize: \", cropsize)"
   ]
  },
  {
   "attachments": {},
   "cell_type": "markdown",
   "metadata": {},
   "source": [
    "### second, unrotate day 2 tiff files based on the shift amount"
   ]
  },
  {
   "cell_type": "code",
   "execution_count": 12,
   "metadata": {},
   "outputs": [
    {
     "name": "stdout",
     "output_type": "stream",
     "text": [
      "Unrotate Imaging Tiff files...\n",
      "Rotation center is at (254.0, 259.0)\n",
      "Get the median value of tiff file:  /media/zilong/4TB Storage HDD/2PImaging/183_04082023/04082023_00019.tif\n",
      "Randomly select 90 frames to average over...\n",
      "Get the median value of tiff file:  /media/zilong/4TB Storage HDD/2PImaging/183_04082023/04082023_00020.tif\n",
      "Randomly select 90 frames to average over...\n",
      "Get the median value of tiff file:  /media/zilong/4TB Storage HDD/2PImaging/183_04082023/04082023_00022.tif\n",
      "Randomly select 90 frames to average over...\n",
      "Get the median value of tiff file:  /media/zilong/4TB Storage HDD/2PImaging/183_04082023/04082023_00027.tif\n",
      "Randomly select 90 frames to average over...\n",
      "Get the median value of tiff file:  /media/zilong/4TB Storage HDD/2PImaging/183_04082023/04082023_00028.tif\n",
      "Randomly select 90 frames to average over...\n",
      "Get the median value of tiff file:  /media/zilong/4TB Storage HDD/2PImaging/183_04082023/04082023_00029.tif\n",
      "Randomly select 90 frames to average over...\n",
      "Get the median value of tiff file:  /media/zilong/4TB Storage HDD/2PImaging/183_04082023/04082023_00030.tif\n",
      "Randomly select 90 frames to average over...\n",
      "Get the median value of tiff file:  /media/zilong/4TB Storage HDD/2PImaging/183_04082023/04082023_00031.tif\n",
      "Randomly select 90 frames to average over...\n",
      "Get the median value of tiff file:  /media/zilong/4TB Storage HDD/2PImaging/183_04082023/04082023_00032.tif\n",
      "Randomly select 90 frames to average over...\n",
      "Get the median value of tiff file:  /media/zilong/4TB Storage HDD/2PImaging/183_04082023/04082023_00033.tif\n",
      "Randomly select 90 frames to average over...\n",
      "Get the median value of tiff file:  /media/zilong/4TB Storage HDD/2PImaging/183_04082023/04082023_00034.tif\n",
      "Randomly select 90 frames to average over...\n",
      "Get the median value of tiff file:  /media/zilong/4TB Storage HDD/2PImaging/183_04082023/04082023_00035.tif\n",
      "Randomly select 90 frames to average over...\n",
      "Get the median value of tiff file:  /media/zilong/4TB Storage HDD/2PImaging/183_04082023/04082023_00038.tif\n",
      "Randomly select 90 frames to average over...\n",
      "Unrotating tiff file: /media/zilong/4TB Storage HDD/2PImaging/183_04082023/04082023_00019.tif\n",
      "Loading rotary encoder file: /media/zilong/4TB Storage HDD/2PImaging/183_04082023/REdata_20230804_153344.00019.txt\n",
      "Calculating rotations and times from rotary encoder data...\n",
      "Finished calculating rotations and times.\n",
      "The rotary encoder file has 36396 timestamps in it.\n",
      "WARNING: Log file is not loaded\n",
      "Counted 9000 frames\n",
      "Time for unrotating current tiff file: 102.36510515213013\n",
      "Unrotating tiff file: /media/zilong/4TB Storage HDD/2PImaging/183_04082023/04082023_00020.tif\n",
      "Loading rotary encoder file: /media/zilong/4TB Storage HDD/2PImaging/183_04082023/REdata_20230804_153927.00020.txt\n",
      "Calculating rotations and times from rotary encoder data...\n",
      "Finished calculating rotations and times.\n",
      "The rotary encoder file has 33247 timestamps in it.\n",
      "WARNING: Log file is not loaded\n",
      "Counted 9000 frames\n",
      "Time for unrotating current tiff file: 109.3137731552124\n",
      "Unrotating tiff file: /media/zilong/4TB Storage HDD/2PImaging/183_04082023/04082023_00022.tif\n",
      "Loading rotary encoder file: /media/zilong/4TB Storage HDD/2PImaging/183_04082023/REdata_20230804_154857.00022.txt\n",
      "Calculating rotations and times from rotary encoder data...\n",
      "Finished calculating rotations and times.\n",
      "The rotary encoder file has 34764 timestamps in it.\n",
      "WARNING: Log file is not loaded\n",
      "Counted 9000 frames\n",
      "Time for unrotating current tiff file: 112.55229043960571\n",
      "Unrotating tiff file: /media/zilong/4TB Storage HDD/2PImaging/183_04082023/04082023_00027.tif\n",
      "Loading rotary encoder file: /media/zilong/4TB Storage HDD/2PImaging/183_04082023/REdata_20230804_155704.00027.txt\n",
      "Calculating rotations and times from rotary encoder data...\n",
      "Finished calculating rotations and times.\n",
      "The rotary encoder file has 52496 timestamps in it.\n",
      "WARNING: Log file is not loaded\n",
      "Counted 9000 frames\n",
      "Time for unrotating current tiff file: 109.799644947052\n",
      "Unrotating tiff file: /media/zilong/4TB Storage HDD/2PImaging/183_04082023/04082023_00028.tif\n",
      "Loading rotary encoder file: /media/zilong/4TB Storage HDD/2PImaging/183_04082023/REdata_20230804_160617.00028.txt\n",
      "Calculating rotations and times from rotary encoder data...\n",
      "Finished calculating rotations and times.\n",
      "The rotary encoder file has 37754 timestamps in it.\n",
      "WARNING: Log file is not loaded\n",
      "Counted 9000 frames\n",
      "Time for unrotating current tiff file: 113.27451133728027\n",
      "Unrotating tiff file: /media/zilong/4TB Storage HDD/2PImaging/183_04082023/04082023_00029.tif\n",
      "Loading rotary encoder file: /media/zilong/4TB Storage HDD/2PImaging/183_04082023/REdata_20230804_161255.00029.txt\n",
      "Calculating rotations and times from rotary encoder data...\n",
      "Finished calculating rotations and times.\n",
      "The rotary encoder file has 38008 timestamps in it.\n",
      "WARNING: Log file is not loaded\n",
      "Counted 9000 frames\n",
      "Time for unrotating current tiff file: 104.44545459747314\n",
      "Unrotating tiff file: /media/zilong/4TB Storage HDD/2PImaging/183_04082023/04082023_00030.tif\n",
      "Loading rotary encoder file: /media/zilong/4TB Storage HDD/2PImaging/183_04082023/REdata_20230804_162227.00030.txt\n",
      "Calculating rotations and times from rotary encoder data...\n",
      "Finished calculating rotations and times.\n",
      "The rotary encoder file has 35889 timestamps in it.\n",
      "WARNING: Log file is not loaded\n",
      "Counted 9000 frames\n",
      "Time for unrotating current tiff file: 157.2363293170929\n",
      "Unrotating tiff file: /media/zilong/4TB Storage HDD/2PImaging/183_04082023/04082023_00031.tif\n",
      "Loading rotary encoder file: /media/zilong/4TB Storage HDD/2PImaging/183_04082023/REdata_20230804_162905.00031.txt\n",
      "Calculating rotations and times from rotary encoder data...\n",
      "Finished calculating rotations and times.\n",
      "The rotary encoder file has 34646 timestamps in it.\n",
      "WARNING: Log file is not loaded\n",
      "Counted 9000 frames\n",
      "Time for unrotating current tiff file: 112.69508123397827\n",
      "Unrotating tiff file: /media/zilong/4TB Storage HDD/2PImaging/183_04082023/04082023_00032.tif\n",
      "Loading rotary encoder file: /media/zilong/4TB Storage HDD/2PImaging/183_04082023/REdata_20230804_163549.00032.txt\n",
      "Calculating rotations and times from rotary encoder data...\n",
      "Finished calculating rotations and times.\n",
      "The rotary encoder file has 35871 timestamps in it.\n",
      "WARNING: Log file is not loaded\n",
      "Counted 9000 frames\n",
      "Time for unrotating current tiff file: 111.04698514938354\n",
      "Unrotating tiff file: /media/zilong/4TB Storage HDD/2PImaging/183_04082023/04082023_00033.tif\n",
      "Loading rotary encoder file: /media/zilong/4TB Storage HDD/2PImaging/183_04082023/REdata_20230804_164233.00033.txt\n",
      "Calculating rotations and times from rotary encoder data...\n",
      "Finished calculating rotations and times.\n",
      "The rotary encoder file has 42302 timestamps in it.\n",
      "WARNING: Log file is not loaded\n",
      "Counted 9000 frames\n",
      "Time for unrotating current tiff file: 115.2544481754303\n",
      "Unrotating tiff file: /media/zilong/4TB Storage HDD/2PImaging/183_04082023/04082023_00034.tif\n",
      "Loading rotary encoder file: /media/zilong/4TB Storage HDD/2PImaging/183_04082023/REdata_20230804_165039.00034.txt\n",
      "Calculating rotations and times from rotary encoder data...\n",
      "Finished calculating rotations and times.\n",
      "The rotary encoder file has 36640 timestamps in it.\n",
      "WARNING: Log file is not loaded\n",
      "Counted 9000 frames\n",
      "Time for unrotating current tiff file: 104.11904263496399\n",
      "Unrotating tiff file: /media/zilong/4TB Storage HDD/2PImaging/183_04082023/04082023_00035.tif\n",
      "Loading rotary encoder file: /media/zilong/4TB Storage HDD/2PImaging/183_04082023/REdata_20230804_165747.00035.txt\n",
      "Calculating rotations and times from rotary encoder data...\n",
      "Finished calculating rotations and times.\n",
      "The rotary encoder file has 36899 timestamps in it.\n",
      "WARNING: Log file is not loaded\n",
      "Counted 9000 frames\n",
      "Time for unrotating current tiff file: 113.09933161735535\n",
      "Unrotating tiff file: /media/zilong/4TB Storage HDD/2PImaging/183_04082023/04082023_00038.tif\n",
      "Loading rotary encoder file: /media/zilong/4TB Storage HDD/2PImaging/183_04082023/REdata_20230804_170438.00038.txt\n",
      "Calculating rotations and times from rotary encoder data...\n",
      "Finished calculating rotations and times.\n",
      "The rotary encoder file has 41427 timestamps in it.\n",
      "WARNING: Log file is not loaded\n",
      "Counted 9000 frames\n",
      "Time for unrotating current tiff file: 112.94067049026489\n"
     ]
    }
   ],
   "source": [
    "#read all the imaging files in the folder\n",
    "datafolder = \"/media/zilong/4TB Storage HDD/2PImaging/183_04082023\"\n",
    "filenamelist = [\"00019\", \"00020\", \"00022\", \"00027\", \"00028\", \"00029\", \"00030\", \"00031\", \"00032\", \"00033\", \"00034\", \"00035\", \"00038\"]\n",
    "\n",
    "UnrotateTiff(datafolder=datafolder, namelist = filenamelist, readVRlogs = False, shiftyx=shiftyx, cropsize=cropsize, savefolder=\"UnrotTiff_crossdaymatching/\")"
   ]
  },
  {
   "cell_type": "code",
   "execution_count": 11,
   "metadata": {},
   "outputs": [
    {
     "data": {
      "text/plain": [
       "array([0, 4, 6])"
      ]
     },
     "execution_count": 11,
     "metadata": {},
     "output_type": "execute_result"
    }
   ],
   "source": [
    "np.random.choice(10, 3, replace=False)\n"
   ]
  },
  {
   "cell_type": "code",
   "execution_count": null,
   "metadata": {},
   "outputs": [],
   "source": []
  },
  {
   "cell_type": "code",
   "execution_count": null,
   "metadata": {},
   "outputs": [],
   "source": []
  }
 ],
 "metadata": {
  "kernelspec": {
   "display_name": "suite2p",
   "language": "python",
   "name": "python3"
  },
  "language_info": {
   "codemirror_mode": {
    "name": "ipython",
    "version": 3
   },
   "file_extension": ".py",
   "mimetype": "text/x-python",
   "name": "python",
   "nbconvert_exporter": "python",
   "pygments_lexer": "ipython3",
   "version": "3.8.16"
  },
  "orig_nbformat": 4
 },
 "nbformat": 4,
 "nbformat_minor": 2
}
