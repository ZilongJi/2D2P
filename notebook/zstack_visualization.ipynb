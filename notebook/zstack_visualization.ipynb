{
 "cells": [
  {
   "cell_type": "code",
   "execution_count": 4,
   "metadata": {},
   "outputs": [],
   "source": [
    "import numpy as np\n",
    "import matplotlib.pyplot as plt\n",
    "import suite2p\n",
    "from scanimagetiffio import SITiffIO\n",
    "#import utils_image from the parent folder\n",
    "import sys\n",
    "sys.path.append(\"..\")\n",
    "from utils_image import UnrotateCropFrame, RegFrame, compute_zpos_sp\n"
   ]
  },
  {
   "cell_type": "code",
   "execution_count": 3,
   "metadata": {},
   "outputs": [
    {
     "name": "stdout",
     "output_type": "stream",
     "text": [
      "Loading rotary encoder file: /home/zilong/Desktop/2D2P/Data/183/REdata_20230725_160414.txt\n",
      "Warning: The file /home/zilong/Desktop/2D2P/Data/183/REdata_20230725_160414.txt has no microscope trigger associated. Proceeding to calculate times anyway...\n",
      "Finished calculating rotations and times.\n",
      "The rotary encoder file has 17935 timestamps in it.\n",
      "WARNING: Log file is not loaded\n",
      "Counted 4100 frames\n"
     ]
    }
   ],
   "source": [
    "#load the zstack tiff and calculate the mean frames for each stack\n",
    "\n",
    "zstacktiff = '/home/zilong/Desktop/2D2P/Data/183/stack_00002.tif'\n",
    "ztstackrelog = '/home/zilong/Desktop/2D2P/Data/183/REdata_20230725_160414.txt'\n",
    "\n",
    "S = SITiffIO()\n",
    "S.open_tiff_file(zstacktiff, \"r\")\n",
    "S.open_rotary_file(ztstackrelog)\n",
    "S.interp_times()  # might take a while...\n",
    "\n",
    "#get all frames and angles in S\n",
    "Array = []; \n",
    "for i in range(S.get_n_frames()):\n",
    "    Array.append(S.get_frame(i+1))\n",
    "#change Array to a numpy array\n",
    "Array = np.array(Array)\n",
    "Angle = S.get_all_theta()\n",
    "\n",
    "# unrotate each frame in the tiff file with the detected rotation center\n",
    "unrotcropFrames = UnrotateCropFrame(Array, Angle, rotCenter=[262,259])\n",
    "\n",
    "\n",
    "num_v=1; num_s=41; num_f=100\n",
    "# reshape the unrotFrames to a 5D array\n",
    "unrotcropFrames = unrotcropFrames.reshape(\n",
    "    num_v, num_s, num_f, unrotcropFrames.shape[1], unrotcropFrames.shape[2]\n",
    ")\n",
    "# average across the first and third dimension\n",
    "meanZstacks = np.mean(unrotcropFrames, axis=(0, 2))"
   ]
  },
  {
   "cell_type": "code",
   "execution_count": 6,
   "metadata": {},
   "outputs": [],
   "source": [
    "def hist_match(source, template):\n",
    "    \"\"\"\n",
    "    Adjust the pixel values of a grayscale image such that its histogram\n",
    "    matches that of a target image\n",
    "\n",
    "    Arguments:\n",
    "    -----------\n",
    "        source: np.ndarray\n",
    "            Image to transform; the histogram is computed over the flattened\n",
    "            array\n",
    "        template: np.ndarray\n",
    "            Template image; can have different dimensions to source\n",
    "    Returns:\n",
    "    -----------\n",
    "        matched: np.ndarray\n",
    "            The transformed output image\n",
    "    \"\"\"\n",
    "\n",
    "    oldshape = source.shape\n",
    "    source = source.ravel()\n",
    "    template = template.ravel()\n",
    "\n",
    "    # get the set of unique pixel values and their corresponding indices and\n",
    "    # counts\n",
    "    s_values, bin_idx, s_counts = np.unique(source, return_inverse=True,\n",
    "                                            return_counts=True)\n",
    "    t_values, t_counts = np.unique(template, return_counts=True)\n",
    "\n",
    "    # take the cumsum of the counts and normalize by the number of pixels to\n",
    "    # get the empirical cumulative distribution functions for the source and\n",
    "    # template images (maps pixel value --> quantile)\n",
    "    s_quantiles = np.cumsum(s_counts).astype(np.float64)\n",
    "    s_quantiles /= s_quantiles[-1]\n",
    "    t_quantiles = np.cumsum(t_counts).astype(np.float64)\n",
    "    t_quantiles /= t_quantiles[-1]\n",
    "\n",
    "    # interpolate linearly to find the pixel values in the template image\n",
    "    # that correspond most closely to the quantiles in the source image\n",
    "    interp_t_values = np.interp(s_quantiles, t_quantiles, t_values)\n",
    "\n",
    "    return interp_t_values[bin_idx].reshape(oldshape)"
   ]
  },
  {
   "cell_type": "code",
   "execution_count": 7,
   "metadata": {},
   "outputs": [
    {
     "ename": "NameError",
     "evalue": "name 'new_frame_i' is not defined",
     "output_type": "error",
     "traceback": [
      "\u001b[0;31m---------------------------------------------------------------------------\u001b[0m",
      "\u001b[0;31mNameError\u001b[0m                                 Traceback (most recent call last)",
      "Cell \u001b[0;32mIn[7], line 9\u001b[0m\n\u001b[1;32m      7\u001b[0m     \u001b[39m#histogram matching to the first frame\u001b[39;00m\n\u001b[1;32m      8\u001b[0m     new_frame_i \u001b[39m=\u001b[39m hist_match(frame_i, firstframe)\n\u001b[0;32m----> 9\u001b[0m plt\u001b[39m.\u001b[39mimshow(new_frame_i)\n\u001b[1;32m     10\u001b[0m plt\u001b[39m.\u001b[39msavefig(\u001b[39m'\u001b[39m\u001b[39m/home/zilong/Desktop/2D2P/Data/183/DP/meanZstacks/meanZstacks\u001b[39m\u001b[39m'\u001b[39m\u001b[39m+\u001b[39m\u001b[39mstr\u001b[39m(i\u001b[39m+\u001b[39m\u001b[39m1\u001b[39m)\u001b[39m+\u001b[39m\u001b[39m'\u001b[39m\u001b[39m.png\u001b[39m\u001b[39m'\u001b[39m)\n",
      "\u001b[0;31mNameError\u001b[0m: name 'new_frame_i' is not defined"
     ]
    }
   ],
   "source": [
    "#visualize each frames in the meanZstacks and save it to a folder \n",
    "firstframe = meanZstacks[0,:,:]\n",
    "for i in range(meanZstacks.shape[0]):\n",
    "    new_frame_i = meanZstacks[i,:,:]\n",
    "    if i>0:\n",
    "        frame_i = meanZstacks[i,:,:]\n",
    "        #histogram matching to the first frame\n",
    "        new_frame_i = hist_match(frame_i, firstframe)\n",
    "    plt.imshow(new_frame_i)\n",
    "    plt.savefig('/home/zilong/Desktop/2D2P/Data/183/DP/meanZstacks/meanZstacks'+str(i+1)+'.png')"
   ]
  },
  {
   "cell_type": "code",
   "execution_count": null,
   "metadata": {},
   "outputs": [],
   "source": []
  }
 ],
 "metadata": {
  "kernelspec": {
   "display_name": "2D2P",
   "language": "python",
   "name": "python3"
  },
  "language_info": {
   "codemirror_mode": {
    "name": "ipython",
    "version": 3
   },
   "file_extension": ".py",
   "mimetype": "text/x-python",
   "name": "python",
   "nbconvert_exporter": "python",
   "pygments_lexer": "ipython3",
   "version": "3.8.17"
  },
  "orig_nbformat": 4
 },
 "nbformat": 4,
 "nbformat_minor": 2
}
